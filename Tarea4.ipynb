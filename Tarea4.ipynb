{
 "cells": [
  {
   "cell_type": "code",
   "execution_count": 1,
   "id": "4022258c-1c23-4bf6-a0da-57676e7ffb04",
   "metadata": {},
   "outputs": [],
   "source": [
    "import sqlite3 as sql\n",
    "import pandas as pd\n",
    "from sklearn.metrics import mean_squared_error, r2_score\n",
    "import numpy as np"
   ]
  },
  {
   "cell_type": "code",
   "execution_count": 2,
   "id": "d1ecfd88-506a-4e50-8193-a00747f1a646",
   "metadata": {},
   "outputs": [],
   "source": [
    "df = pd.read_csv('data/motor_data11-14lats.csv', sep = ',' )"
   ]
  },
  {
   "cell_type": "code",
   "execution_count": 3,
   "id": "e793cd56-bf44-48fa-9c43-3b49cf80e6a4",
   "metadata": {},
   "outputs": [
    {
     "data": {
      "text/html": [
       "<div>\n",
       "<style scoped>\n",
       "    .dataframe tbody tr th:only-of-type {\n",
       "        vertical-align: middle;\n",
       "    }\n",
       "\n",
       "    .dataframe tbody tr th {\n",
       "        vertical-align: top;\n",
       "    }\n",
       "\n",
       "    .dataframe thead th {\n",
       "        text-align: right;\n",
       "    }\n",
       "</style>\n",
       "<table border=\"1\" class=\"dataframe\">\n",
       "  <thead>\n",
       "    <tr style=\"text-align: right;\">\n",
       "      <th></th>\n",
       "      <th>SEX</th>\n",
       "      <th>INSR_BEGIN</th>\n",
       "      <th>INSR_END</th>\n",
       "      <th>EFFECTIVE_YR</th>\n",
       "      <th>INSR_TYPE</th>\n",
       "      <th>INSURED_VALUE</th>\n",
       "      <th>PREMIUM</th>\n",
       "      <th>OBJECT_ID</th>\n",
       "      <th>PROD_YEAR</th>\n",
       "      <th>SEATS_NUM</th>\n",
       "      <th>CARRYING_CAPACITY</th>\n",
       "      <th>TYPE_VEHICLE</th>\n",
       "      <th>CCM_TON</th>\n",
       "      <th>MAKE</th>\n",
       "      <th>USAGE</th>\n",
       "      <th>CLAIM_PAID</th>\n",
       "    </tr>\n",
       "  </thead>\n",
       "  <tbody>\n",
       "    <tr>\n",
       "      <th>0</th>\n",
       "      <td>0</td>\n",
       "      <td>08-AUG-13</td>\n",
       "      <td>07-AUG-14</td>\n",
       "      <td>08</td>\n",
       "      <td>1202</td>\n",
       "      <td>519755.22</td>\n",
       "      <td>7209.140</td>\n",
       "      <td>5000029885</td>\n",
       "      <td>2007.0</td>\n",
       "      <td>4.0</td>\n",
       "      <td>6.0</td>\n",
       "      <td>Pick-up</td>\n",
       "      <td>3153.0</td>\n",
       "      <td>NISSAN</td>\n",
       "      <td>Own Goods</td>\n",
       "      <td>NaN</td>\n",
       "    </tr>\n",
       "    <tr>\n",
       "      <th>1</th>\n",
       "      <td>0</td>\n",
       "      <td>08-AUG-12</td>\n",
       "      <td>07-AUG-13</td>\n",
       "      <td>08</td>\n",
       "      <td>1202</td>\n",
       "      <td>519755.22</td>\n",
       "      <td>7203.890</td>\n",
       "      <td>5000029885</td>\n",
       "      <td>2007.0</td>\n",
       "      <td>4.0</td>\n",
       "      <td>6.0</td>\n",
       "      <td>Pick-up</td>\n",
       "      <td>3153.0</td>\n",
       "      <td>NISSAN</td>\n",
       "      <td>Own Goods</td>\n",
       "      <td>NaN</td>\n",
       "    </tr>\n",
       "    <tr>\n",
       "      <th>2</th>\n",
       "      <td>0</td>\n",
       "      <td>08-AUG-11</td>\n",
       "      <td>07-AUG-12</td>\n",
       "      <td>08</td>\n",
       "      <td>1202</td>\n",
       "      <td>519755.22</td>\n",
       "      <td>7045.804</td>\n",
       "      <td>5000029885</td>\n",
       "      <td>2007.0</td>\n",
       "      <td>4.0</td>\n",
       "      <td>6.0</td>\n",
       "      <td>Pick-up</td>\n",
       "      <td>3153.0</td>\n",
       "      <td>NISSAN</td>\n",
       "      <td>Own Goods</td>\n",
       "      <td>NaN</td>\n",
       "    </tr>\n",
       "    <tr>\n",
       "      <th>3</th>\n",
       "      <td>0</td>\n",
       "      <td>08-JUL-11</td>\n",
       "      <td>07-AUG-11</td>\n",
       "      <td>08</td>\n",
       "      <td>1202</td>\n",
       "      <td>519755.22</td>\n",
       "      <td>287.250</td>\n",
       "      <td>5000029885</td>\n",
       "      <td>2007.0</td>\n",
       "      <td>4.0</td>\n",
       "      <td>6.0</td>\n",
       "      <td>Pick-up</td>\n",
       "      <td>3153.0</td>\n",
       "      <td>NISSAN</td>\n",
       "      <td>Own Goods</td>\n",
       "      <td>NaN</td>\n",
       "    </tr>\n",
       "    <tr>\n",
       "      <th>4</th>\n",
       "      <td>0</td>\n",
       "      <td>08-AUG-13</td>\n",
       "      <td>07-AUG-14</td>\n",
       "      <td>08</td>\n",
       "      <td>1202</td>\n",
       "      <td>285451.24</td>\n",
       "      <td>4286.900</td>\n",
       "      <td>5000029901</td>\n",
       "      <td>2010.0</td>\n",
       "      <td>4.0</td>\n",
       "      <td>7.0</td>\n",
       "      <td>Pick-up</td>\n",
       "      <td>2494.0</td>\n",
       "      <td>TOYOTA</td>\n",
       "      <td>Own Goods</td>\n",
       "      <td>19894.43</td>\n",
       "    </tr>\n",
       "    <tr>\n",
       "      <th>...</th>\n",
       "      <td>...</td>\n",
       "      <td>...</td>\n",
       "      <td>...</td>\n",
       "      <td>...</td>\n",
       "      <td>...</td>\n",
       "      <td>...</td>\n",
       "      <td>...</td>\n",
       "      <td>...</td>\n",
       "      <td>...</td>\n",
       "      <td>...</td>\n",
       "      <td>...</td>\n",
       "      <td>...</td>\n",
       "      <td>...</td>\n",
       "      <td>...</td>\n",
       "      <td>...</td>\n",
       "      <td>...</td>\n",
       "    </tr>\n",
       "    <tr>\n",
       "      <th>293532</th>\n",
       "      <td>2</td>\n",
       "      <td>11-AUG-12</td>\n",
       "      <td>10-AUG-13</td>\n",
       "      <td>88</td>\n",
       "      <td>1201</td>\n",
       "      <td>0.00</td>\n",
       "      <td>577.700</td>\n",
       "      <td>5000047311</td>\n",
       "      <td>1985.0</td>\n",
       "      <td>4.0</td>\n",
       "      <td>NaN</td>\n",
       "      <td>Automobile</td>\n",
       "      <td>1295.0</td>\n",
       "      <td>TOYOTA</td>\n",
       "      <td>Private</td>\n",
       "      <td>NaN</td>\n",
       "    </tr>\n",
       "    <tr>\n",
       "      <th>293533</th>\n",
       "      <td>2</td>\n",
       "      <td>11-AUG-11</td>\n",
       "      <td>10-AUG-12</td>\n",
       "      <td>88</td>\n",
       "      <td>1201</td>\n",
       "      <td>0.00</td>\n",
       "      <td>695.318</td>\n",
       "      <td>5000047311</td>\n",
       "      <td>1985.0</td>\n",
       "      <td>4.0</td>\n",
       "      <td>NaN</td>\n",
       "      <td>Automobile</td>\n",
       "      <td>1295.0</td>\n",
       "      <td>TOYOTA</td>\n",
       "      <td>Private</td>\n",
       "      <td>NaN</td>\n",
       "    </tr>\n",
       "    <tr>\n",
       "      <th>293534</th>\n",
       "      <td>2</td>\n",
       "      <td>01-JUN-13</td>\n",
       "      <td>31-MAY-14</td>\n",
       "      <td>13</td>\n",
       "      <td>1201</td>\n",
       "      <td>250000.00</td>\n",
       "      <td>4778.450</td>\n",
       "      <td>5000949222</td>\n",
       "      <td>1993.0</td>\n",
       "      <td>4.0</td>\n",
       "      <td>NaN</td>\n",
       "      <td>Automobile</td>\n",
       "      <td>1295.0</td>\n",
       "      <td>TOYOTA</td>\n",
       "      <td>Private</td>\n",
       "      <td>NaN</td>\n",
       "    </tr>\n",
       "    <tr>\n",
       "      <th>293535</th>\n",
       "      <td>0</td>\n",
       "      <td>08-JUL-12</td>\n",
       "      <td>07-JUL-13</td>\n",
       "      <td>85</td>\n",
       "      <td>1202</td>\n",
       "      <td>0.00</td>\n",
       "      <td>1057.427</td>\n",
       "      <td>5000049231</td>\n",
       "      <td>2017.0</td>\n",
       "      <td>2.0</td>\n",
       "      <td>0.0</td>\n",
       "      <td>Truck</td>\n",
       "      <td>4570.0</td>\n",
       "      <td>ISUZU</td>\n",
       "      <td>General Cartage</td>\n",
       "      <td>NaN</td>\n",
       "    </tr>\n",
       "    <tr>\n",
       "      <th>293536</th>\n",
       "      <td>0</td>\n",
       "      <td>08-JUL-11</td>\n",
       "      <td>07-JUL-12</td>\n",
       "      <td>85</td>\n",
       "      <td>1202</td>\n",
       "      <td>0.00</td>\n",
       "      <td>1001.537</td>\n",
       "      <td>5000049231</td>\n",
       "      <td>2017.0</td>\n",
       "      <td>2.0</td>\n",
       "      <td>0.0</td>\n",
       "      <td>Truck</td>\n",
       "      <td>4570.0</td>\n",
       "      <td>ISUZU</td>\n",
       "      <td>General Cartage</td>\n",
       "      <td>NaN</td>\n",
       "    </tr>\n",
       "  </tbody>\n",
       "</table>\n",
       "<p>293537 rows × 16 columns</p>\n",
       "</div>"
      ],
      "text/plain": [
       "        SEX INSR_BEGIN   INSR_END EFFECTIVE_YR  INSR_TYPE  INSURED_VALUE  \\\n",
       "0         0  08-AUG-13  07-AUG-14           08       1202      519755.22   \n",
       "1         0  08-AUG-12  07-AUG-13           08       1202      519755.22   \n",
       "2         0  08-AUG-11  07-AUG-12           08       1202      519755.22   \n",
       "3         0  08-JUL-11  07-AUG-11           08       1202      519755.22   \n",
       "4         0  08-AUG-13  07-AUG-14           08       1202      285451.24   \n",
       "...     ...        ...        ...          ...        ...            ...   \n",
       "293532    2  11-AUG-12  10-AUG-13           88       1201           0.00   \n",
       "293533    2  11-AUG-11  10-AUG-12           88       1201           0.00   \n",
       "293534    2  01-JUN-13  31-MAY-14           13       1201      250000.00   \n",
       "293535    0  08-JUL-12  07-JUL-13           85       1202           0.00   \n",
       "293536    0  08-JUL-11  07-JUL-12           85       1202           0.00   \n",
       "\n",
       "         PREMIUM   OBJECT_ID  PROD_YEAR  SEATS_NUM  CARRYING_CAPACITY  \\\n",
       "0       7209.140  5000029885     2007.0        4.0                6.0   \n",
       "1       7203.890  5000029885     2007.0        4.0                6.0   \n",
       "2       7045.804  5000029885     2007.0        4.0                6.0   \n",
       "3        287.250  5000029885     2007.0        4.0                6.0   \n",
       "4       4286.900  5000029901     2010.0        4.0                7.0   \n",
       "...          ...         ...        ...        ...                ...   \n",
       "293532   577.700  5000047311     1985.0        4.0                NaN   \n",
       "293533   695.318  5000047311     1985.0        4.0                NaN   \n",
       "293534  4778.450  5000949222     1993.0        4.0                NaN   \n",
       "293535  1057.427  5000049231     2017.0        2.0                0.0   \n",
       "293536  1001.537  5000049231     2017.0        2.0                0.0   \n",
       "\n",
       "       TYPE_VEHICLE  CCM_TON    MAKE            USAGE  CLAIM_PAID  \n",
       "0           Pick-up   3153.0  NISSAN        Own Goods         NaN  \n",
       "1           Pick-up   3153.0  NISSAN        Own Goods         NaN  \n",
       "2           Pick-up   3153.0  NISSAN        Own Goods         NaN  \n",
       "3           Pick-up   3153.0  NISSAN        Own Goods         NaN  \n",
       "4           Pick-up   2494.0  TOYOTA        Own Goods    19894.43  \n",
       "...             ...      ...     ...              ...         ...  \n",
       "293532   Automobile   1295.0  TOYOTA          Private         NaN  \n",
       "293533   Automobile   1295.0  TOYOTA          Private         NaN  \n",
       "293534   Automobile   1295.0  TOYOTA          Private         NaN  \n",
       "293535        Truck   4570.0   ISUZU  General Cartage         NaN  \n",
       "293536        Truck   4570.0   ISUZU  General Cartage         NaN  \n",
       "\n",
       "[293537 rows x 16 columns]"
      ]
     },
     "execution_count": 3,
     "metadata": {},
     "output_type": "execute_result"
    }
   ],
   "source": [
    "df"
   ]
  },
  {
   "cell_type": "code",
   "execution_count": 4,
   "id": "661dc403-4c12-4997-bcdd-340dd818f977",
   "metadata": {},
   "outputs": [],
   "source": [
    "#Crear columna Id\n",
    "df['Id'] = range(1, len(df) + 1)"
   ]
  },
  {
   "cell_type": "code",
   "execution_count": 5,
   "id": "c6083caa-57fb-46e3-91ad-cabb8558daed",
   "metadata": {},
   "outputs": [],
   "source": [
    "con = sql.connect(\"data/Base_db.sqlite\") #esto crea una nueva base dentro de data y si ya existe solo la llama.\n",
    "# cuando creo una coneccion estoy creando un objeto con metodos.\n",
    "\n",
    "#activa el metodo cursor que permite ejecutar codigo de sql\n",
    "cursor = con.cursor()"
   ]
  },
  {
   "cell_type": "code",
   "execution_count": 6,
   "id": "93e1570b-a39b-4a44-80b4-a4c35526b261",
   "metadata": {},
   "outputs": [
    {
     "data": {
      "text/plain": [
       "293537"
      ]
     },
     "execution_count": 6,
     "metadata": {},
     "output_type": "execute_result"
    }
   ],
   "source": [
    "# subir el DataFrame en SQL\n",
    "df.to_sql('Seguros_de_autos', con, if_exists='replace', index=False)"
   ]
  },
  {
   "cell_type": "code",
   "execution_count": 7,
   "id": "9427363c-d102-467b-8eb4-dfe60db95482",
   "metadata": {},
   "outputs": [
    {
     "name": "stdout",
     "output_type": "stream",
     "text": [
      "[('Seguros_de_autos',)]\n"
     ]
    }
   ],
   "source": [
    "#consultar las tablas que tenemos\n",
    "cursor.execute(\n",
    "    '''\n",
    "    SELECT tbl_name\n",
    "    FROM sqlite_master\n",
    "    WHERE type = 'table'\n",
    "    '''\n",
    ")\n",
    "\n",
    "#cursor.fetchall() lo que hace es consultar las tablas que tenemos\n",
    "print(cursor.fetchall())"
   ]
  },
  {
   "cell_type": "code",
   "execution_count": 8,
   "id": "3b68838d-6f7a-455d-908c-e66bdfd974dc",
   "metadata": {},
   "outputs": [],
   "source": [
    "# Crear datos nulos en la columna PREMIUM para filas con un 9 en su Id\n",
    "cursor.execute(\"\"\"\n",
    "--Seleccionar la tabla Seguros_de_autos para modifica\n",
    "UPDATE Seguros_de_autos\n",
    "SET PREMIUM = CASE\n",
    "    WHEN Id LIKE '%9%' THEN NULL\n",
    "    ELSE PREMIUM\n",
    "END\n",
    "\n",
    "\"\"\")\n",
    "con.commit()"
   ]
  },
  {
   "cell_type": "code",
   "execution_count": null,
   "id": "45f0540d-375a-4b95-8517-4f3ced972e7e",
   "metadata": {},
   "outputs": [],
   "source": []
  },
  {
   "cell_type": "code",
   "execution_count": 9,
   "id": "2ef93194-be8f-4469-bc30-e045525a1420",
   "metadata": {},
   "outputs": [
    {
     "data": {
      "text/plain": [
       "<sqlite3.Cursor at 0x22447277240>"
      ]
     },
     "execution_count": 9,
     "metadata": {},
     "output_type": "execute_result"
    }
   ],
   "source": [
    "#Agregar columna rasgo_asegurado en la tabla Seguros_de_autos\n",
    "cursor.execute(\"\"\"\n",
    "ALTER TABLE Seguros_de_autos\n",
    "ADD COLUMN rango_asegurado VARCHAR(50);\n",
    "\n",
    "\"\"\")"
   ]
  },
  {
   "cell_type": "code",
   "execution_count": 10,
   "id": "ca13c963-2a1b-43c6-8df2-f5feb7db3ef9",
   "metadata": {},
   "outputs": [],
   "source": [
    "# Discretice la variable INSURED_VALUE\n",
    "cursor.execute(\"\"\"\n",
    "--Seleccionar la tabla Seguros_de_autos para modifica\n",
    "UPDATE Seguros_de_autos\n",
    "SET rango_asegurado = CASE\n",
    "    WHEN INSURED_VALUE < 1000 THEN '1e3'\n",
    "    WHEN INSURED_VALUE >= 1000 AND INSURED_VALUE < 1000000 THEN '1e6'\n",
    "    WHEN INSURED_VALUE >= 1000000 AND INSURED_VALUE < 1000000000 THEN '1e9'\n",
    "    ELSE '1e12'\n",
    "END;\n",
    "\n",
    "\"\"\")\n",
    "con.commit()"
   ]
  },
  {
   "cell_type": "markdown",
   "id": "214efee1-5e3d-4e5c-ab26-b357599c3c17",
   "metadata": {},
   "source": [
    "# Agrupación Grupo 1"
   ]
  },
  {
   "cell_type": "markdown",
   "id": "547c63b3-0cba-409c-9f43-2dc1bdb60762",
   "metadata": {},
   "source": [
    "### Promedio"
   ]
  },
  {
   "cell_type": "code",
   "execution_count": 11,
   "id": "73f575a2-8ac6-40d1-81c2-e5c3d24bf804",
   "metadata": {
    "scrolled": true
   },
   "outputs": [],
   "source": [
    "#Crea tabla temporal del los posibles grupos de las combinaciones de las columas con el promedio\n",
    "cursor.execute(\"\"\"\n",
    "-- Tabla temporal para guardar el promedio de la agrupación\n",
    "CREATE TEMPORARY TABLE agru_prom AS\n",
    "SELECT\n",
    "    SEX,\n",
    "    PROD_YEAR,\n",
    "    SEATS_NUM,\n",
    "    rango_asegurado,\n",
    "    AVG(PREMIUM) AS prom_PREMIUM \n",
    "    -- Guarda los valores en esta columna de los promedio por grupo\n",
    "    -- Es el promedio para cada grupo de combi de columnas\n",
    "FROM\n",
    "    Seguros_de_autos\n",
    "WHERE\n",
    "    PREMIUM IS NOT NULL\n",
    "    \n",
    "--Agrupa las filas de la tabla según las columnas especificadas   \n",
    "--Es decir, va a calcular el promedio PREMIUM dentro de cada grupo\n",
    "GROUP BY           \n",
    "    SEX, PROD_YEAR, SEATS_NUM, rango_asegurado;\n",
    "\"\"\")\n",
    "con.commit()"
   ]
  },
  {
   "cell_type": "code",
   "execution_count": 12,
   "id": "8ab848f4-7e53-4b32-9017-bea99467f99c",
   "metadata": {},
   "outputs": [
    {
     "data": {
      "text/plain": [
       "<sqlite3.Cursor at 0x22447277240>"
      ]
     },
     "execution_count": 12,
     "metadata": {},
     "output_type": "execute_result"
    }
   ],
   "source": [
    "#Crear una tabla temporal copia de seguros de autos para guardar la tabla con los datos imputados con con la agrupación y estadística especificada\n",
    "cursor.execute(\"\"\"\n",
    "CREATE TEMPORARY TABLE tempora_gru1_prom AS\n",
    "SELECT *\n",
    "FROM Seguros_de_autos;\n",
    "\"\"\")"
   ]
  },
  {
   "cell_type": "code",
   "execution_count": 13,
   "id": "f201c482-1c56-43d3-8362-0096d4d7b6ed",
   "metadata": {},
   "outputs": [],
   "source": [
    "# (1) Filtrar filas para actualización: WHERE Seguros_de_autos.PREMIUM IS NULL\n",
    "# Identificar todas las filas en la tabla Seguros_de_autos donde la columna PREMIUM es nula.\n",
    "# El motor de la base de datos primero evalúa esta condición para determinar qué filas serán potencialmente actualizadas.\n",
    "\n",
    "# (2) Subconsulta para obtener el valor: SELECT agru_prom.prom_PREMIUM ...\n",
    "# Para cada fila identificada en el paso 1, ejecutar esta subconsulta para encontrar el valor prom_PREMIUM correspondiente en la tabla agru_prom.\n",
    "# Esta subconsulta se ejecuta para cada fila que cumple la condición WHERE Seguros_de_autos.PREMIUM IS NULL.\n",
    "\n",
    "# (3) Asignación del valor: SET Seguros_de_autos.PREMIUM = ...\n",
    "# Asignar el valor obtenido de la subconsulta a la columna PREMIUM de Seguros_de_autos.\n",
    "# Si la subconsulta encuentra un valor prom_PREMIUM, este se asigna a la columna PREMIUM de la fila actual en Seguros_de_autos.\n",
    "\n",
    "# (4) Actualización de la tabla: UPDATE Seguros_de_autos\n",
    "# Realizar la operación de actualización en la tabla Seguros_de_autos.\n",
    "# Finalmente, el motor de la base de datos actualiza las filas de Seguros_de_autos que cumplen con la condición WHERE Seguros_de_autos.PREMIUM IS NULL con el valor obtenido de la subconsulta.\n",
    "\n",
    "\n",
    "cursor.execute(\"\"\"\n",
    "UPDATE tempora_gru1_prom\n",
    "SET PREMIUM = (\n",
    "    SELECT agru_prom.prom_PREMIUM\n",
    "    FROM agru_prom\n",
    "    WHERE\n",
    "        tempora_gru1_prom.SEX = agru_prom.SEX AND\n",
    "        tempora_gru1_prom.PROD_YEAR = agru_prom.PROD_YEAR AND\n",
    "        tempora_gru1_prom.SEATS_NUM = agru_prom.SEATS_NUM AND\n",
    "        tempora_gru1_prom.rango_asegurado = agru_prom.rango_asegurado\n",
    ")\n",
    "WHERE tempora_gru1_prom.PREMIUM IS NULL;\n",
    "\"\"\")\n",
    "con.commit()\n"
   ]
  },
  {
   "cell_type": "code",
   "execution_count": null,
   "id": "49be19f1-85f6-4f1d-bcdf-cc72061b1d7f",
   "metadata": {},
   "outputs": [],
   "source": []
  },
  {
   "cell_type": "code",
   "execution_count": 14,
   "id": "314b49c8-f003-41c0-8581-51bc87bf96bb",
   "metadata": {},
   "outputs": [],
   "source": [
    "#cursor.execute(\"\"\"\n",
    "#DROP TABLE tabla_agrupa\n",
    "#\"\"\")"
   ]
  },
  {
   "cell_type": "markdown",
   "id": "94dabd7b-34a1-4189-b1ea-5b9e1b2ac6e2",
   "metadata": {},
   "source": [
    "### Máximo"
   ]
  },
  {
   "cell_type": "code",
   "execution_count": 15,
   "id": "593d8363-85f0-498f-98c4-a04a0edd20ae",
   "metadata": {},
   "outputs": [],
   "source": [
    "#Crea tabla temporal del los posibles grupos de las combinaciones de las columas\n",
    "cursor.execute(\"\"\"\n",
    "-- Tabla temporal para guardar el promedio de la agrupación\n",
    "CREATE TEMPORARY TABLE agru_max AS\n",
    "SELECT\n",
    "    SEX,\n",
    "    PROD_YEAR,\n",
    "    SEATS_NUM,\n",
    "    rango_asegurado,\n",
    "    MAX(PREMIUM) AS max_PREMIUM \n",
    "    -- Guarda los valores en esta columna deL máximo por grupo\n",
    "    -- Es el max para cada grupo de combi de columnas\n",
    "FROM\n",
    "    Seguros_de_autos\n",
    "WHERE\n",
    "    PREMIUM IS NOT NULL\n",
    "    \n",
    "--Agrupa las filas de la tabla según las columnas especificadas   \n",
    "--Es decir, va a calcular el max PREMIUM dentro de cada grupo\n",
    "GROUP BY           \n",
    "    SEX, PROD_YEAR, SEATS_NUM, rango_asegurado;\n",
    "\"\"\")\n",
    "con.commit()"
   ]
  },
  {
   "cell_type": "code",
   "execution_count": 16,
   "id": "bdccf817-bda5-44ab-be10-35f3e50aa770",
   "metadata": {},
   "outputs": [
    {
     "data": {
      "text/plain": [
       "<sqlite3.Cursor at 0x22447277240>"
      ]
     },
     "execution_count": 16,
     "metadata": {},
     "output_type": "execute_result"
    }
   ],
   "source": [
    "#Crear una tabla temporal copia de seguros de autos para guardar la tabla con los datos imputados con con la agrupación y estadística especificada\n",
    "cursor.execute(\"\"\"\n",
    "CREATE TEMPORARY TABLE tempora_gru1_max AS\n",
    "SELECT *\n",
    "FROM Seguros_de_autos;\n",
    "\"\"\")"
   ]
  },
  {
   "cell_type": "code",
   "execution_count": 17,
   "id": "e85a99d4-3572-4621-870d-926ece126ed3",
   "metadata": {},
   "outputs": [],
   "source": [
    "#modificar los nulos con el maximo\n",
    "cursor.execute(\"\"\"\n",
    "UPDATE tempora_gru1_max\n",
    "SET PREMIUM = (\n",
    "    SELECT agru_max.max_PREMIUM\n",
    "    FROM agru_max\n",
    "    WHERE\n",
    "        tempora_gru1_max.SEX = agru_max.SEX AND\n",
    "        tempora_gru1_max.PROD_YEAR = agru_max.PROD_YEAR AND\n",
    "        tempora_gru1_max.SEATS_NUM = agru_max.SEATS_NUM AND\n",
    "        tempora_gru1_max.rango_asegurado = agru_max.rango_asegurado\n",
    ")\n",
    "WHERE tempora_gru1_max.PREMIUM IS NULL;\n",
    "\"\"\")\n",
    "con.commit()"
   ]
  },
  {
   "cell_type": "markdown",
   "id": "86d9490f-2f5d-4aef-acda-e4588c0035aa",
   "metadata": {},
   "source": [
    "# Imputación Grupo 2"
   ]
  },
  {
   "cell_type": "markdown",
   "id": "55149cd6-6a9b-498c-aaf7-c961bd99b650",
   "metadata": {},
   "source": [
    "### Promedio"
   ]
  },
  {
   "cell_type": "code",
   "execution_count": 18,
   "id": "b67740eb-b4c4-4ecb-bd4e-5b0039893d36",
   "metadata": {},
   "outputs": [],
   "source": [
    "cursor.execute(\"\"\"\n",
    "-- Tabla temporal para guardar el promedio de la agrupación\n",
    "CREATE TEMPORARY TABLE tabla_agrupa_prom AS\n",
    "SELECT\n",
    "    PROD_YEAR,\n",
    "    SEATS_NUM,\n",
    "    TYPE_VEHICLE,\n",
    "    rango_asegurado,\n",
    "    AVG(PREMIUM) AS imput_PREMIUM_prom \n",
    "FROM\n",
    "    Seguros_de_autos\n",
    "WHERE\n",
    "    PREMIUM IS NOT NULL\n",
    "    \n",
    "--Agrupa las filas de la tabla según las columnas especificadas   \n",
    "--Es decir, va a calcular el promedio PREMIUM dentro de cada grupo\n",
    "GROUP BY           \n",
    "    PROD_YEAR, SEATS_NUM, TYPE_VEHICLE, rango_asegurado;\n",
    "\"\"\")\n",
    "con.commit()"
   ]
  },
  {
   "cell_type": "code",
   "execution_count": 19,
   "id": "ca894358-fe6f-4a95-a0b7-134fd8068ee8",
   "metadata": {},
   "outputs": [
    {
     "data": {
      "text/plain": [
       "<sqlite3.Cursor at 0x22447277240>"
      ]
     },
     "execution_count": 19,
     "metadata": {},
     "output_type": "execute_result"
    }
   ],
   "source": [
    "#Crear una tabla temporal copia de seguros de autos para guardar la tabla con los datos imputados con con la agrupación y estadística especificada\n",
    "cursor.execute(\"\"\"\n",
    "CREATE TEMPORARY TABLE tempora_gru2_prom AS\n",
    "SELECT *\n",
    "FROM Seguros_de_autos;\n",
    "\"\"\")"
   ]
  },
  {
   "cell_type": "code",
   "execution_count": 20,
   "id": "c33469c5-886a-41e6-b151-08006111dc81",
   "metadata": {},
   "outputs": [
    {
     "data": {
      "text/plain": [
       "<sqlite3.Cursor at 0x22447277240>"
      ]
     },
     "execution_count": 20,
     "metadata": {},
     "output_type": "execute_result"
    }
   ],
   "source": [
    "#modificar los nulos con el promedio\n",
    "cursor.execute(\"\"\"\n",
    "UPDATE tempora_gru2_prom\n",
    "SET PREMIUM = (\n",
    "    SELECT tabla_agrupa_prom.imput_PREMIUM_prom\n",
    "    FROM tabla_agrupa_prom\n",
    "    WHERE\n",
    "        tempora_gru2_prom.PROD_YEAR = tabla_agrupa_prom.PROD_YEAR AND\n",
    "        tempora_gru2_prom.SEATS_NUM = tabla_agrupa_prom.SEATS_NUM AND\n",
    "        tempora_gru2_prom.rango_asegurado = tabla_agrupa_prom.rango_asegurado AND\n",
    "        tempora_gru2_prom.TYPE_VEHICLE = tabla_agrupa_prom.TYPE_VEHICLE\n",
    ")\n",
    "WHERE tempora_gru2_prom.PREMIUM IS NULL;\n",
    "\"\"\")"
   ]
  },
  {
   "cell_type": "markdown",
   "id": "0230cde2-1802-49b6-bb7c-7fda7ac44029",
   "metadata": {},
   "source": [
    "### Máximo"
   ]
  },
  {
   "cell_type": "code",
   "execution_count": 21,
   "id": "2f82bb23-9a1b-4671-979f-80375a3ea026",
   "metadata": {},
   "outputs": [],
   "source": [
    "#Crea tabla temporal del los posibles grupos de las combinaciones de las columas con el promedio\n",
    "cursor.execute(\"\"\"\n",
    "-- Tabla temporal para guardar el promedio de la agrupación\n",
    "CREATE TEMPORARY TABLE tabla_agrupa_max AS\n",
    "SELECT\n",
    "    PROD_YEAR,\n",
    "    SEATS_NUM,\n",
    "    TYPE_VEHICLE,\n",
    "    rango_asegurado,\n",
    "    MAX(PREMIUM) AS imput_PREMIUM_max\n",
    "FROM\n",
    "    Seguros_de_autos\n",
    "WHERE\n",
    "    PREMIUM IS NOT NULL\n",
    "    \n",
    "--Agrupa las filas de la tabla según las columnas especificadas   \n",
    "--Es decir, va a calcular el promedio PREMIUM dentro de cada grupo\n",
    "GROUP BY           \n",
    "    PROD_YEAR, SEATS_NUM, TYPE_VEHICLE, rango_asegurado;\n",
    "\"\"\")\n",
    "con.commit()\n"
   ]
  },
  {
   "cell_type": "code",
   "execution_count": 22,
   "id": "066ee864-c1c0-4ce8-8c42-18283b6f9057",
   "metadata": {},
   "outputs": [
    {
     "data": {
      "text/plain": [
       "<sqlite3.Cursor at 0x22447277240>"
      ]
     },
     "execution_count": 22,
     "metadata": {},
     "output_type": "execute_result"
    }
   ],
   "source": [
    "#Crear una tabla temporal copia de seguros de autos para guardar la tabla con los datos imputados con con la agrupación y estadística especificada\n",
    "cursor.execute(\"\"\"\n",
    "CREATE TEMPORARY TABLE tempora_gru2_max AS\n",
    "SELECT *\n",
    "FROM Seguros_de_autos;\n",
    "\"\"\")"
   ]
  },
  {
   "cell_type": "code",
   "execution_count": 23,
   "id": "0ff29214-2beb-4a93-ace3-ce71c4c66d44",
   "metadata": {},
   "outputs": [
    {
     "data": {
      "text/plain": [
       "<sqlite3.Cursor at 0x22447277240>"
      ]
     },
     "execution_count": 23,
     "metadata": {},
     "output_type": "execute_result"
    }
   ],
   "source": [
    "#modificar los nulos con el maximo\n",
    "cursor.execute(\"\"\"\n",
    "UPDATE tempora_gru2_max\n",
    "SET PREMIUM = (\n",
    "    SELECT tabla_agrupa_max.imput_PREMIUM_max\n",
    "    FROM tabla_agrupa_max\n",
    "    WHERE\n",
    "        tempora_gru2_max.PROD_YEAR = tabla_agrupa_max.PROD_YEAR AND\n",
    "        tempora_gru2_max.SEATS_NUM = tabla_agrupa_max.SEATS_NUM AND\n",
    "        tempora_gru2_max.rango_asegurado = tabla_agrupa_max.rango_asegurado AND\n",
    "        tempora_gru2_max.TYPE_VEHICLE = tabla_agrupa_max.TYPE_VEHICLE\n",
    ")\n",
    "WHERE tempora_gru2_max.PREMIUM IS NULL;\n",
    "\"\"\")\n"
   ]
  },
  {
   "cell_type": "markdown",
   "id": "22aa8ce4-8a15-4608-b120-6c623a4f830c",
   "metadata": {},
   "source": [
    "### Extraer las tablas de SQL a DataFrames en python"
   ]
  },
  {
   "cell_type": "code",
   "execution_count": 24,
   "id": "f081ddc3-a0d1-4eb4-bf10-827a16c3d103",
   "metadata": {},
   "outputs": [],
   "source": [
    "# SQL a python\n",
    "Seguros_de_autos = pd.read_sql(\n",
    "    '''\n",
    "    SELECT *\n",
    "    FROM Seguros_de_autos\n",
    "    ''',\n",
    "    con\n",
    ")\n",
    "\n",
    "df_grup1_prom = pd.read_sql(\n",
    "    '''\n",
    "    SELECT *\n",
    "    FROM tempora_gru1_prom\n",
    "    ''',\n",
    "    con\n",
    ")\n",
    "\n",
    "df_grup1_max = pd.read_sql(\n",
    "    '''\n",
    "    SELECT *\n",
    "    FROM tempora_gru1_max\n",
    "    ''',\n",
    "    con\n",
    ")\n",
    "\n",
    "df_grup2_prom = pd.read_sql(\n",
    "    '''\n",
    "    SELECT *\n",
    "    FROM tempora_gru2_prom\n",
    "    ''',\n",
    "    con\n",
    ")\n",
    "\n",
    "df_grup2_max = pd.read_sql(\n",
    "    '''\n",
    "    SELECT *\n",
    "    FROM tempora_gru2_max\n",
    "    ''',\n",
    "    con\n",
    ")\n",
    "\n",
    "#me traigo de SQL todas las tablas temporales a df a python"
   ]
  },
  {
   "cell_type": "code",
   "execution_count": 25,
   "id": "a5bb27a5-fbf3-4663-974a-619145d594ae",
   "metadata": {},
   "outputs": [],
   "source": [
    "#Convierto las tablas en dataframes de pandas\n",
    "Seguros_de_autos = pd.DataFrame(Seguros_de_autos)\n",
    "df_grup1_prom = pd.DataFrame(df_grup1_prom)\n",
    "df_grup1_max = pd.DataFrame(df_grup1_max)\n",
    "df_grup2_prom = pd.DataFrame(df_grup2_prom)\n",
    "df_grup2_max = pd.DataFrame(df_grup2_max)"
   ]
  },
  {
   "cell_type": "markdown",
   "id": "c48c9a12-73ad-488c-8631-00e21ad5cc85",
   "metadata": {},
   "source": [
    "# Métricas"
   ]
  },
  {
   "cell_type": "markdown",
   "id": "81f8c54c-f79b-45ad-ac32-8149571578dc",
   "metadata": {},
   "source": [
    "## Grupo 1:"
   ]
  },
  {
   "cell_type": "markdown",
   "id": "d36d9f8d-2e49-462f-98dd-478872466976",
   "metadata": {},
   "source": [
    "### Promedio"
   ]
  },
  {
   "cell_type": "code",
   "execution_count": 26,
   "id": "1647876d-d167-4b46-863a-810c721cba19",
   "metadata": {},
   "outputs": [
    {
     "name": "stdout",
     "output_type": "stream",
     "text": [
      "RSS: 3435222762469.8433\n",
      "RMSE: 3431.8111606909\n",
      "R²: 0.8557281264858414\n"
     ]
    }
   ],
   "source": [
    "# Valores originales\n",
    "y_true = np.array(df['PREMIUM']) #Se extrae la columna PREMIUM DEL df original\n",
    "\n",
    "# Valores imputados\n",
    "y_pred = np.array(df_grup1_prom['PREMIUM'])\n",
    "\n",
    "# Enmascarar los valores no nulos https://numpy.org/doc/stable/reference/generated/numpy.isnan.html\n",
    "mask = ~np.isnan(y_true) & ~np.isnan(y_pred)\n",
    "\n",
    "# Filtrar los valores no nulos\n",
    "y_true_filtrado = y_true[mask]\n",
    "y_pred_filtrado = y_pred[mask]\n",
    "\n",
    "# Calcular RSS\n",
    "rss = np.sum((y_true_filtrado - y_pred_filtrado)**2)\n",
    "print(f\"RSS: {rss}\")\n",
    "\n",
    "# Calcular RMSE\n",
    "rmse = np.sqrt(mean_squared_error(y_true_filtrado, y_pred_filtrado))\n",
    "print(f\"RMSE: {rmse}\")\n",
    "\n",
    "# Calcular R²\n",
    "r2 = r2_score(y_true_filtrado, y_pred_filtrado)\n",
    "print(f\"R²: {r2}\")\n"
   ]
  },
  {
   "cell_type": "markdown",
   "id": "4a7420e2-02af-40bc-9241-a2fd33068e71",
   "metadata": {},
   "source": [
    "### Máximo"
   ]
  },
  {
   "cell_type": "code",
   "execution_count": 31,
   "id": "c7e0a5a0-a432-42ca-8aaf-c856bbe4e66c",
   "metadata": {},
   "outputs": [
    {
     "name": "stdout",
     "output_type": "stream",
     "text": [
      "RSS: 98466991228570.58\n",
      "RMSE: 18373.473349252374\n",
      "R²: -3.1353991534552783\n"
     ]
    }
   ],
   "source": [
    "\n",
    "y_pred = np.array(df_grup1_max['PREMIUM'])\n",
    "\n",
    "mask = ~np.isnan(y_true) & ~np.isnan(y_pred)\n",
    "y_true_filtrado = y_true[mask]\n",
    "y_pred_filtrado = y_pred[mask]\n",
    "\n",
    "rss = np.sum((y_true_filtrado - y_pred_filtrado)**2)\n",
    "print(f\"RSS: {rss}\")\n",
    "\n",
    "rmse = np.sqrt(mean_squared_error(y_true_filtrado, y_pred_filtrado))\n",
    "print(f\"RMSE: {rmse}\")\n",
    "\n",
    "r2 = r2_score(y_true_filtrado, y_pred_filtrado)\n",
    "print(f\"R²: {r2}\")\n"
   ]
  },
  {
   "cell_type": "markdown",
   "id": "d463e5b1-8ccc-463d-8219-5eb6bb6a827a",
   "metadata": {},
   "source": [
    "## Grupo 2:"
   ]
  },
  {
   "cell_type": "markdown",
   "id": "2f547c1e-3f41-4815-b373-72a371d02f06",
   "metadata": {},
   "source": [
    "## Promedio"
   ]
  },
  {
   "cell_type": "code",
   "execution_count": 28,
   "id": "b99e02ad-f392-4975-bd39-1e084eea0df4",
   "metadata": {},
   "outputs": [
    {
     "name": "stdout",
     "output_type": "stream",
     "text": [
      "RSS: 3705084352233.7363\n",
      "RMSE: 3566.1510734461062\n",
      "R²: 0.8442776314738616\n"
     ]
    }
   ],
   "source": [
    "y_pred = np.array(df_grup2_prom['PREMIUM'])\n",
    "\n",
    "mask = ~np.isnan(y_true) & ~np.isnan(y_pred)\n",
    "y_true_filtrado = y_true[mask]\n",
    "y_pred_filtrado = y_pred[mask]\n",
    "\n",
    "rss = np.sum((y_true_filtrado - y_pred_filtrado)**2)\n",
    "print(f\"RSS: {rss}\")\n",
    "\n",
    "rmse = np.sqrt(mean_squared_error(y_true_filtrado, y_pred_filtrado))\n",
    "print(f\"RMSE: {rmse}\")\n",
    "\n",
    "r2 = r2_score(y_true_filtrado, y_pred_filtrado)\n",
    "print(f\"R²: {r2}\")\n"
   ]
  },
  {
   "cell_type": "code",
   "execution_count": null,
   "id": "cc193e18-55cb-4104-9613-f717c4ebaddd",
   "metadata": {},
   "outputs": [],
   "source": [
    "# Máximo"
   ]
  },
  {
   "cell_type": "code",
   "execution_count": 29,
   "id": "5370c20f-a860-4cfc-baa7-d07b322cf41e",
   "metadata": {},
   "outputs": [
    {
     "name": "stdout",
     "output_type": "stream",
     "text": [
      "RSS: 50831680906657.234\n",
      "RMSE: 13208.938648275243\n",
      "R²: -1.13642362613886\n"
     ]
    }
   ],
   "source": [
    "y_pred = np.array(df_grup2_max['PREMIUM'])\n",
    "\n",
    "mask = ~np.isnan(y_true) & ~np.isnan(y_pred)\n",
    "y_true_filtrado = y_true[mask]\n",
    "y_pred_filtrado = y_pred[mask]\n",
    "\n",
    "rss = np.sum((y_true_filtrado - y_pred_filtrado)**2)\n",
    "print(f\"RSS: {rss}\")\n",
    "\n",
    "rmse = np.sqrt(mean_squared_error(y_true_filtrado, y_pred_filtrado))\n",
    "print(f\"RMSE: {rmse}\")\n",
    "\n",
    "r2 = r2_score(y_true_filtrado, y_pred_filtrado)\n",
    "print(f\"R²: {r2}\")\n"
   ]
  },
  {
   "cell_type": "code",
   "execution_count": null,
   "id": "a9170f54-4f01-447c-a37e-6d5ee149b28e",
   "metadata": {},
   "outputs": [],
   "source": []
  },
  {
   "cell_type": "code",
   "execution_count": null,
   "id": "7b653352-957e-4d16-a2c9-fb47c4cce295",
   "metadata": {},
   "outputs": [],
   "source": []
  }
 ],
 "metadata": {
  "kernelspec": {
   "display_name": "Python 3 (ipykernel)",
   "language": "python",
   "name": "python3"
  },
  "language_info": {
   "codemirror_mode": {
    "name": "ipython",
    "version": 3
   },
   "file_extension": ".py",
   "mimetype": "text/x-python",
   "name": "python",
   "nbconvert_exporter": "python",
   "pygments_lexer": "ipython3",
   "version": "3.11.7"
  }
 },
 "nbformat": 4,
 "nbformat_minor": 5
}
